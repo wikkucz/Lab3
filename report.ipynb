{
 "cells": [
  {
   "cell_type": "markdown",
   "metadata": {
    "collapsed": false,
    "jupyter": {
     "outputs_hidden": false
    }
   },
   "source": [
    "# Raport: Analiza danych i budowa modelu predykcyjnego\n",
    "\n",
    "**Cel:** Na podstawie dostarczonych danych zbudować model predykcyjny przewidujący wartość zmiennej `score`.\n"
   ]
  },
  {
   "cell_type": "code",
   "execution_count": 1,
   "metadata": {
    "collapsed": false,
    "jupyter": {
     "outputs_hidden": false
    }
   },
   "outputs": [
    {
     "name": "stdout",
     "output_type": "stream",
     "text": [
      "<class 'pandas.core.frame.DataFrame'>\n",
      "RangeIndex: 4739 entries, 0 to 4738\n",
      "Data columns (total 16 columns):\n",
      " #   Column              Non-Null Count  Dtype  \n",
      "---  ------              --------------  -----  \n",
      " 0   rownames            4739 non-null   int64  \n",
      " 1   score               4739 non-null   float64\n",
      " 2   unemp               4739 non-null   float64\n",
      " 3   wage                4739 non-null   float64\n",
      " 4   distance            4739 non-null   float64\n",
      " 5   tuition             4739 non-null   float64\n",
      " 6   education           4739 non-null   int64  \n",
      " 7   gender_male         4739 non-null   bool   \n",
      " 8   ethnicity_hispanic  4739 non-null   bool   \n",
      " 9   ethnicity_other     4739 non-null   bool   \n",
      " 10  fcollege_yes        4739 non-null   bool   \n",
      " 11  mcollege_yes        4739 non-null   bool   \n",
      " 12  home_yes            4739 non-null   bool   \n",
      " 13  urban_yes           4739 non-null   bool   \n",
      " 14  income_low          4739 non-null   bool   \n",
      " 15  region_west         4739 non-null   bool   \n",
      "dtypes: bool(9), float64(5), int64(2)\n",
      "memory usage: 300.9 KB\n"
     ]
    },
    {
     "data": {
      "text/html": [
       "<div>\n",
       "<style scoped>\n",
       "    .dataframe tbody tr th:only-of-type {\n",
       "        vertical-align: middle;\n",
       "    }\n",
       "\n",
       "    .dataframe tbody tr th {\n",
       "        vertical-align: top;\n",
       "    }\n",
       "\n",
       "    .dataframe thead th {\n",
       "        text-align: right;\n",
       "    }\n",
       "</style>\n",
       "<table border=\"1\" class=\"dataframe\">\n",
       "  <thead>\n",
       "    <tr style=\"text-align: right;\">\n",
       "      <th></th>\n",
       "      <th>rownames</th>\n",
       "      <th>score</th>\n",
       "      <th>unemp</th>\n",
       "      <th>wage</th>\n",
       "      <th>distance</th>\n",
       "      <th>tuition</th>\n",
       "      <th>education</th>\n",
       "    </tr>\n",
       "  </thead>\n",
       "  <tbody>\n",
       "    <tr>\n",
       "      <th>count</th>\n",
       "      <td>4739.000000</td>\n",
       "      <td>4739.000000</td>\n",
       "      <td>4739.000000</td>\n",
       "      <td>4739.000000</td>\n",
       "      <td>4739.000000</td>\n",
       "      <td>4739.000000</td>\n",
       "      <td>4739.000000</td>\n",
       "    </tr>\n",
       "    <tr>\n",
       "      <th>mean</th>\n",
       "      <td>3954.638953</td>\n",
       "      <td>50.889029</td>\n",
       "      <td>7.597215</td>\n",
       "      <td>9.500506</td>\n",
       "      <td>1.802870</td>\n",
       "      <td>0.814608</td>\n",
       "      <td>13.807765</td>\n",
       "    </tr>\n",
       "    <tr>\n",
       "      <th>std</th>\n",
       "      <td>5953.827761</td>\n",
       "      <td>8.701910</td>\n",
       "      <td>2.763581</td>\n",
       "      <td>1.343067</td>\n",
       "      <td>2.297128</td>\n",
       "      <td>0.339504</td>\n",
       "      <td>1.789107</td>\n",
       "    </tr>\n",
       "    <tr>\n",
       "      <th>min</th>\n",
       "      <td>1.000000</td>\n",
       "      <td>28.950001</td>\n",
       "      <td>1.400000</td>\n",
       "      <td>6.590000</td>\n",
       "      <td>0.000000</td>\n",
       "      <td>0.257510</td>\n",
       "      <td>12.000000</td>\n",
       "    </tr>\n",
       "    <tr>\n",
       "      <th>25%</th>\n",
       "      <td>1185.500000</td>\n",
       "      <td>43.924999</td>\n",
       "      <td>5.900000</td>\n",
       "      <td>8.850000</td>\n",
       "      <td>0.400000</td>\n",
       "      <td>0.484990</td>\n",
       "      <td>12.000000</td>\n",
       "    </tr>\n",
       "    <tr>\n",
       "      <th>50%</th>\n",
       "      <td>2370.000000</td>\n",
       "      <td>51.189999</td>\n",
       "      <td>7.100000</td>\n",
       "      <td>9.680000</td>\n",
       "      <td>1.000000</td>\n",
       "      <td>0.824480</td>\n",
       "      <td>13.000000</td>\n",
       "    </tr>\n",
       "    <tr>\n",
       "      <th>75%</th>\n",
       "      <td>3554.500000</td>\n",
       "      <td>57.769999</td>\n",
       "      <td>8.900000</td>\n",
       "      <td>10.150000</td>\n",
       "      <td>2.500000</td>\n",
       "      <td>1.127020</td>\n",
       "      <td>16.000000</td>\n",
       "    </tr>\n",
       "    <tr>\n",
       "      <th>max</th>\n",
       "      <td>37810.000000</td>\n",
       "      <td>72.809998</td>\n",
       "      <td>24.900000</td>\n",
       "      <td>12.960000</td>\n",
       "      <td>20.000000</td>\n",
       "      <td>1.404160</td>\n",
       "      <td>18.000000</td>\n",
       "    </tr>\n",
       "  </tbody>\n",
       "</table>\n",
       "</div>"
      ],
      "text/plain": [
       "           rownames        score        unemp         wage     distance  \\\n",
       "count   4739.000000  4739.000000  4739.000000  4739.000000  4739.000000   \n",
       "mean    3954.638953    50.889029     7.597215     9.500506     1.802870   \n",
       "std     5953.827761     8.701910     2.763581     1.343067     2.297128   \n",
       "min        1.000000    28.950001     1.400000     6.590000     0.000000   \n",
       "25%     1185.500000    43.924999     5.900000     8.850000     0.400000   \n",
       "50%     2370.000000    51.189999     7.100000     9.680000     1.000000   \n",
       "75%     3554.500000    57.769999     8.900000    10.150000     2.500000   \n",
       "max    37810.000000    72.809998    24.900000    12.960000    20.000000   \n",
       "\n",
       "           tuition    education  \n",
       "count  4739.000000  4739.000000  \n",
       "mean      0.814608    13.807765  \n",
       "std       0.339504     1.789107  \n",
       "min       0.257510    12.000000  \n",
       "25%       0.484990    12.000000  \n",
       "50%       0.824480    13.000000  \n",
       "75%       1.127020    16.000000  \n",
       "max       1.404160    18.000000  "
      ]
     },
     "execution_count": 1,
     "metadata": {},
     "output_type": "execute_result"
    }
   ],
   "source": [
    "# Importowanie bibliotek\n",
    "import pandas as pd\n",
    "import seaborn as sns\n",
    "import matplotlib.pyplot as plt\n",
    "\n",
    "# Wczytywanie przetworzonych danych\n",
    "df = pd.read_csv(\"data/processed_data_with_dummies.csv\")\n",
    "\n",
    "# Podstawowe informacje o danych\n",
    "df.info()\n",
    "df.describe()\n"
   ]
  },
  {
   "cell_type": "markdown",
   "metadata": {
    "collapsed": false,
    "jupyter": {
     "outputs_hidden": false
    }
   },
   "source": [
    "# Eksploracja danych\n",
    "### Wykresy rozkładów zmiennych\n"
   ]
  },
  {
   "cell_type": "code",
   "execution_count": 2,
   "metadata": {
    "collapsed": false,
    "jupyter": {
     "outputs_hidden": false
    }
   },
   "outputs": [],
   "source": [
    "sns.pairplot(df)\n",
    "plt.savefig('data/pairplot.png')\n",
    "plt.close()\n",
    "\n",
    "# Wykres rozkładu zmiennej score\n",
    "plt.figure(figsize=(8, 6))\n",
    "sns.histplot(df['score'], kde=True)\n",
    "plt.title(\"Distribution of Score\")\n",
    "plt.xlabel(\"Score\")\n",
    "plt.ylabel(\"Frequency\")\n",
    "plt.savefig('data/score_distribution.png')\n",
    "plt.close()\n",
    "\n"
   ]
  },
  {
   "cell_type": "markdown",
   "metadata": {
    "collapsed": false,
    "jp-MarkdownHeadingCollapsed": true,
    "jupyter": {
     "outputs_hidden": false
    }
   },
   "source": [
    "# Wstawianie wykresów\n",
    "![Pairplot](data/pairplot.png)\n",
    "![Rozkład zmiennej score](data/score_distribution.png)\n",
    "\n"
   ]
  },
  {
   "cell_type": "code",
   "execution_count": 3,
   "metadata": {
    "collapsed": false,
    "jupyter": {
     "outputs_hidden": false
    }
   },
   "outputs": [
    {
     "name": "stdout",
     "output_type": "stream",
     "text": [
      "MSE: 21.86593286905961\n",
      "R²: 0.7111778299301941\n"
     ]
    }
   ],
   "source": [
    "from sklearn.metrics import mean_squared_error, r2_score\n",
    "# Ocena modelu\n",
    "import joblib\n",
    "\n",
    "# Wczytaj model\n",
    "model = joblib.load(\"data/trained_model.joblib\")\n",
    "\n",
    "# Predykcje i ewaluacja modelu\n",
    "X = df.drop(columns=['score'])\n",
    "y = df['score']\n",
    "\n",
    "y_pred = model.predict(X)\n",
    "\n",
    "mse = mean_squared_error(y, y_pred)\n",
    "r2 = r2_score(y, y_pred)\n",
    "\n",
    "print(f'MSE: {mse}')\n",
    "print(f'R²: {r2}')\n",
    "\n",
    "# Wizualizacja wyników\n",
    "plt.figure(figsize=(8, 6))\n",
    "plt.scatter(y, y_pred, alpha=0.5)\n",
    "plt.plot([y.min(), y.max()], [y.min(), y.max()], 'r--')\n",
    "plt.xlabel(\"Actual Score\")\n",
    "plt.ylabel(\"Predicted Score\")\n",
    "plt.title(\"Actual vs Predicted Score\")\n",
    "plt.savefig('data/actual_vs_predicted.png')\n",
    "plt.close()\n",
    "\n"
   ]
  },
  {
   "cell_type": "markdown",
   "metadata": {
    "collapsed": false,
    "jupyter": {
     "outputs_hidden": false
    }
   },
   "source": [
    "# Wstawianie wykresu oceny modelu\n",
    "![Actual vs Predicted Score](data/actual_vs_predicted.png)\n",
    "\n",
    "### Ocena modelu\n",
    "Model Random Forest został oceniony przy użyciu MSE (Mean Squared Error) oraz R². Uzyskane wyniki wskazują na satysfakcjonującą jakość predykcji, z wartością R² wynoszącą {r2:.2f} oraz MSE równym {mse:.2f}. Model jest skuteczny w przewidywaniu wartości zmiennej 'score' na podstawie dostępnych danych."
   ]
  }
 ],
 "metadata": {
  "kernelspec": {
   "display_name": "Python 3 (ipykernel)",
   "language": "python",
   "name": "python3"
  },
  "language_info": {
   "codemirror_mode": {
    "name": "ipython",
    "version": 3
   },
   "file_extension": ".py",
   "mimetype": "text/x-python",
   "name": "python",
   "nbconvert_exporter": "python",
   "pygments_lexer": "ipython3",
   "version": "3.11.2"
  }
 },
 "nbformat": 4,
 "nbformat_minor": 4
}
